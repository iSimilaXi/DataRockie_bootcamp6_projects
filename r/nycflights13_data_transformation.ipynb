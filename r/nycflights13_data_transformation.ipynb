{
  "nbformat": 4,
  "nbformat_minor": 0,
  "metadata": {
    "colab": {
      "provenance": []
    },
    "kernelspec": {
      "name": "ir",
      "display_name": "R"
    },
    "language_info": {
      "name": "R"
    }
  },
  "cells": [
    {
      "cell_type": "code",
      "execution_count": 2,
      "metadata": {
        "colab": {
          "base_uri": "https://localhost:8080/"
        },
        "id": "ezAjEwaOy4Ha",
        "outputId": "fabf467c-9596-40fb-b890-129a20efede5"
      },
      "outputs": [
        {
          "output_type": "stream",
          "name": "stderr",
          "text": [
            "Installing package into ‘/usr/local/lib/R/site-library’\n",
            "(as ‘lib’ is unspecified)\n",
            "\n",
            "── \u001b[1mAttaching packages\u001b[22m ─────────────────────────────────────── tidyverse 1.3.1 ──\n",
            "\n",
            "\u001b[32m✔\u001b[39m \u001b[34mggplot2\u001b[39m 3.4.2     \u001b[32m✔\u001b[39m \u001b[34mpurrr  \u001b[39m 1.0.1\n",
            "\u001b[32m✔\u001b[39m \u001b[34mtibble \u001b[39m 3.2.1     \u001b[32m✔\u001b[39m \u001b[34mdplyr  \u001b[39m 1.1.2\n",
            "\u001b[32m✔\u001b[39m \u001b[34mtidyr  \u001b[39m 1.3.0     \u001b[32m✔\u001b[39m \u001b[34mstringr\u001b[39m 1.5.0\n",
            "\u001b[32m✔\u001b[39m \u001b[34mreadr  \u001b[39m 2.1.4     \u001b[32m✔\u001b[39m \u001b[34mforcats\u001b[39m 1.0.0\n",
            "\n",
            "── \u001b[1mConflicts\u001b[22m ────────────────────────────────────────── tidyverse_conflicts() ──\n",
            "\u001b[31m✖\u001b[39m \u001b[34mdplyr\u001b[39m::\u001b[32mfilter()\u001b[39m masks \u001b[34mstats\u001b[39m::filter()\n",
            "\u001b[31m✖\u001b[39m \u001b[34mdplyr\u001b[39m::\u001b[32mlag()\u001b[39m    masks \u001b[34mstats\u001b[39m::lag()\n",
            "\n"
          ]
        }
      ],
      "source": [
        "install.packages(\"nycflights13\")\n",
        "\n",
        "library(tidyverse)\n",
        "library(nycflights13)"
      ]
    },
    {
      "cell_type": "code",
      "source": [
        "#assign individual databases from nycflights13 to variables\n",
        "flights <- nycflights13::flights\n",
        "airlines <- nycflights13::airlines\n",
        "airports <- nycflights13::airports\n",
        "planes <- nycflights13::planes\n",
        "weather <- nycflights13::weather"
      ],
      "metadata": {
        "id": "lpfi51CR0r64"
      },
      "execution_count": 5,
      "outputs": []
    },
    {
      "cell_type": "code",
      "source": [
        "glimpse(flights)\n",
        "cat(\"\\n\")\n",
        "glimpse(airlines)\n",
        "cat(\"\\n\")\n",
        "glimpse(airports)\n",
        "cat(\"\\n\")\n",
        "glimpse(planes)\n",
        "cat(\"\\n\")\n",
        "glimpse(weather)"
      ],
      "metadata": {
        "colab": {
          "base_uri": "https://localhost:8080/"
        },
        "id": "zqi-olBL3WXa",
        "outputId": "d3ebf3c5-c6ee-43ed-8dcd-8ee8a09f61b2"
      },
      "execution_count": 6,
      "outputs": [
        {
          "output_type": "stream",
          "name": "stdout",
          "text": [
            "Rows: 336,776\n",
            "Columns: 19\n",
            "$ year           \u001b[3m\u001b[90m<int>\u001b[39m\u001b[23m 2013, 2013, 2013, 2013, 2013, 2013, 2013, 2013, 2013, 2…\n",
            "$ month          \u001b[3m\u001b[90m<int>\u001b[39m\u001b[23m 1, 1, 1, 1, 1, 1, 1, 1, 1, 1, 1, 1, 1, 1, 1, 1, 1, 1, 1…\n",
            "$ day            \u001b[3m\u001b[90m<int>\u001b[39m\u001b[23m 1, 1, 1, 1, 1, 1, 1, 1, 1, 1, 1, 1, 1, 1, 1, 1, 1, 1, 1…\n",
            "$ dep_time       \u001b[3m\u001b[90m<int>\u001b[39m\u001b[23m 517, 533, 542, 544, 554, 554, 555, 557, 557, 558, 558, …\n",
            "$ sched_dep_time \u001b[3m\u001b[90m<int>\u001b[39m\u001b[23m 515, 529, 540, 545, 600, 558, 600, 600, 600, 600, 600, …\n",
            "$ dep_delay      \u001b[3m\u001b[90m<dbl>\u001b[39m\u001b[23m 2, 4, 2, -1, -6, -4, -5, -3, -3, -2, -2, -2, -2, -2, -1…\n",
            "$ arr_time       \u001b[3m\u001b[90m<int>\u001b[39m\u001b[23m 830, 850, 923, 1004, 812, 740, 913, 709, 838, 753, 849,…\n",
            "$ sched_arr_time \u001b[3m\u001b[90m<int>\u001b[39m\u001b[23m 819, 830, 850, 1022, 837, 728, 854, 723, 846, 745, 851,…\n",
            "$ arr_delay      \u001b[3m\u001b[90m<dbl>\u001b[39m\u001b[23m 11, 20, 33, -18, -25, 12, 19, -14, -8, 8, -2, -3, 7, -1…\n",
            "$ carrier        \u001b[3m\u001b[90m<chr>\u001b[39m\u001b[23m \"UA\", \"UA\", \"AA\", \"B6\", \"DL\", \"UA\", \"B6\", \"EV\", \"B6\", \"…\n",
            "$ flight         \u001b[3m\u001b[90m<int>\u001b[39m\u001b[23m 1545, 1714, 1141, 725, 461, 1696, 507, 5708, 79, 301, 4…\n",
            "$ tailnum        \u001b[3m\u001b[90m<chr>\u001b[39m\u001b[23m \"N14228\", \"N24211\", \"N619AA\", \"N804JB\", \"N668DN\", \"N394…\n",
            "$ origin         \u001b[3m\u001b[90m<chr>\u001b[39m\u001b[23m \"EWR\", \"LGA\", \"JFK\", \"JFK\", \"LGA\", \"EWR\", \"EWR\", \"LGA\",…\n",
            "$ dest           \u001b[3m\u001b[90m<chr>\u001b[39m\u001b[23m \"IAH\", \"IAH\", \"MIA\", \"BQN\", \"ATL\", \"ORD\", \"FLL\", \"IAD\",…\n",
            "$ air_time       \u001b[3m\u001b[90m<dbl>\u001b[39m\u001b[23m 227, 227, 160, 183, 116, 150, 158, 53, 140, 138, 149, 1…\n",
            "$ distance       \u001b[3m\u001b[90m<dbl>\u001b[39m\u001b[23m 1400, 1416, 1089, 1576, 762, 719, 1065, 229, 944, 733, …\n",
            "$ hour           \u001b[3m\u001b[90m<dbl>\u001b[39m\u001b[23m 5, 5, 5, 5, 6, 5, 6, 6, 6, 6, 6, 6, 6, 6, 6, 5, 6, 6, 6…\n",
            "$ minute         \u001b[3m\u001b[90m<dbl>\u001b[39m\u001b[23m 15, 29, 40, 45, 0, 58, 0, 0, 0, 0, 0, 0, 0, 0, 0, 59, 0…\n",
            "$ time_hour      \u001b[3m\u001b[90m<dttm>\u001b[39m\u001b[23m 2013-01-01 05:00:00, 2013-01-01 05:00:00, 2013-01-01 0…\n",
            "\n",
            "Rows: 16\n",
            "Columns: 2\n",
            "$ carrier \u001b[3m\u001b[90m<chr>\u001b[39m\u001b[23m \"9E\", \"AA\", \"AS\", \"B6\", \"DL\", \"EV\", \"F9\", \"FL\", \"HA\", \"MQ\", \"O…\n",
            "$ name    \u001b[3m\u001b[90m<chr>\u001b[39m\u001b[23m \"Endeavor Air Inc.\", \"American Airlines Inc.\", \"Alaska Airline…\n",
            "\n",
            "Rows: 1,458\n",
            "Columns: 8\n",
            "$ faa   \u001b[3m\u001b[90m<chr>\u001b[39m\u001b[23m \"04G\", \"06A\", \"06C\", \"06N\", \"09J\", \"0A9\", \"0G6\", \"0G7\", \"0P2\", \"…\n",
            "$ name  \u001b[3m\u001b[90m<chr>\u001b[39m\u001b[23m \"Lansdowne Airport\", \"Moton Field Municipal Airport\", \"Schaumbur…\n",
            "$ lat   \u001b[3m\u001b[90m<dbl>\u001b[39m\u001b[23m 41.13047, 32.46057, 41.98934, 41.43191, 31.07447, 36.37122, 41.4…\n",
            "$ lon   \u001b[3m\u001b[90m<dbl>\u001b[39m\u001b[23m -80.61958, -85.68003, -88.10124, -74.39156, -81.42778, -82.17342…\n",
            "$ alt   \u001b[3m\u001b[90m<dbl>\u001b[39m\u001b[23m 1044, 264, 801, 523, 11, 1593, 730, 492, 1000, 108, 409, 875, 10…\n",
            "$ tz    \u001b[3m\u001b[90m<dbl>\u001b[39m\u001b[23m -5, -6, -6, -5, -5, -5, -5, -5, -5, -8, -5, -6, -5, -5, -5, -5, …\n",
            "$ dst   \u001b[3m\u001b[90m<chr>\u001b[39m\u001b[23m \"A\", \"A\", \"A\", \"A\", \"A\", \"A\", \"A\", \"A\", \"U\", \"A\", \"A\", \"U\", \"A\",…\n",
            "$ tzone \u001b[3m\u001b[90m<chr>\u001b[39m\u001b[23m \"America/New_York\", \"America/Chicago\", \"America/Chicago\", \"Ameri…\n",
            "\n",
            "Rows: 3,322\n",
            "Columns: 9\n",
            "$ tailnum      \u001b[3m\u001b[90m<chr>\u001b[39m\u001b[23m \"N10156\", \"N102UW\", \"N103US\", \"N104UW\", \"N10575\", \"N105UW…\n",
            "$ year         \u001b[3m\u001b[90m<int>\u001b[39m\u001b[23m 2004, 1998, 1999, 1999, 2002, 1999, 1999, 1999, 1999, 199…\n",
            "$ type         \u001b[3m\u001b[90m<chr>\u001b[39m\u001b[23m \"Fixed wing multi engine\", \"Fixed wing multi engine\", \"Fi…\n",
            "$ manufacturer \u001b[3m\u001b[90m<chr>\u001b[39m\u001b[23m \"EMBRAER\", \"AIRBUS INDUSTRIE\", \"AIRBUS INDUSTRIE\", \"AIRBU…\n",
            "$ model        \u001b[3m\u001b[90m<chr>\u001b[39m\u001b[23m \"EMB-145XR\", \"A320-214\", \"A320-214\", \"A320-214\", \"EMB-145…\n",
            "$ engines      \u001b[3m\u001b[90m<int>\u001b[39m\u001b[23m 2, 2, 2, 2, 2, 2, 2, 2, 2, 2, 2, 2, 2, 2, 2, 2, 2, 2, 2, …\n",
            "$ seats        \u001b[3m\u001b[90m<int>\u001b[39m\u001b[23m 55, 182, 182, 182, 55, 182, 182, 182, 182, 182, 55, 55, 5…\n",
            "$ speed        \u001b[3m\u001b[90m<int>\u001b[39m\u001b[23m NA, NA, NA, NA, NA, NA, NA, NA, NA, NA, NA, NA, NA, NA, N…\n",
            "$ engine       \u001b[3m\u001b[90m<chr>\u001b[39m\u001b[23m \"Turbo-fan\", \"Turbo-fan\", \"Turbo-fan\", \"Turbo-fan\", \"Turb…\n",
            "\n",
            "Rows: 26,115\n",
            "Columns: 15\n",
            "$ origin     \u001b[3m\u001b[90m<chr>\u001b[39m\u001b[23m \"EWR\", \"EWR\", \"EWR\", \"EWR\", \"EWR\", \"EWR\", \"EWR\", \"EWR\", \"EW…\n",
            "$ year       \u001b[3m\u001b[90m<int>\u001b[39m\u001b[23m 2013, 2013, 2013, 2013, 2013, 2013, 2013, 2013, 2013, 2013,…\n",
            "$ month      \u001b[3m\u001b[90m<int>\u001b[39m\u001b[23m 1, 1, 1, 1, 1, 1, 1, 1, 1, 1, 1, 1, 1, 1, 1, 1, 1, 1, 1, 1,…\n",
            "$ day        \u001b[3m\u001b[90m<int>\u001b[39m\u001b[23m 1, 1, 1, 1, 1, 1, 1, 1, 1, 1, 1, 1, 1, 1, 1, 1, 1, 1, 1, 1,…\n",
            "$ hour       \u001b[3m\u001b[90m<int>\u001b[39m\u001b[23m 1, 2, 3, 4, 5, 6, 7, 8, 9, 10, 11, 13, 14, 15, 16, 17, 18, …\n",
            "$ temp       \u001b[3m\u001b[90m<dbl>\u001b[39m\u001b[23m 39.02, 39.02, 39.02, 39.92, 39.02, 37.94, 39.02, 39.92, 39.…\n",
            "$ dewp       \u001b[3m\u001b[90m<dbl>\u001b[39m\u001b[23m 26.06, 26.96, 28.04, 28.04, 28.04, 28.04, 28.04, 28.04, 28.…\n",
            "$ humid      \u001b[3m\u001b[90m<dbl>\u001b[39m\u001b[23m 59.37, 61.63, 64.43, 62.21, 64.43, 67.21, 64.43, 62.21, 62.…\n",
            "$ wind_dir   \u001b[3m\u001b[90m<dbl>\u001b[39m\u001b[23m 270, 250, 240, 250, 260, 240, 240, 250, 260, 260, 260, 330,…\n",
            "$ wind_speed \u001b[3m\u001b[90m<dbl>\u001b[39m\u001b[23m 10.35702, 8.05546, 11.50780, 12.65858, 12.65858, 11.50780, …\n",
            "$ wind_gust  \u001b[3m\u001b[90m<dbl>\u001b[39m\u001b[23m NA, NA, NA, NA, NA, NA, NA, NA, NA, NA, NA, NA, NA, NA, 20.…\n",
            "$ precip     \u001b[3m\u001b[90m<dbl>\u001b[39m\u001b[23m 0, 0, 0, 0, 0, 0, 0, 0, 0, 0, 0, 0, 0, 0, 0, 0, 0, 0, 0, 0,…\n",
            "$ pressure   \u001b[3m\u001b[90m<dbl>\u001b[39m\u001b[23m 1012.0, 1012.3, 1012.5, 1012.2, 1011.9, 1012.4, 1012.2, 101…\n",
            "$ visib      \u001b[3m\u001b[90m<dbl>\u001b[39m\u001b[23m 10, 10, 10, 10, 10, 10, 10, 10, 10, 10, 10, 10, 10, 10, 10,…\n",
            "$ time_hour  \u001b[3m\u001b[90m<dttm>\u001b[39m\u001b[23m 2013-01-01 01:00:00, 2013-01-01 02:00:00, 2013-01-01 03:00…\n"
          ]
        }
      ]
    },
    {
      "cell_type": "markdown",
      "source": [
        "Q1 least popular destination during the first quarter of the year"
      ],
      "metadata": {
        "id": "7q7Aks3eGlxZ"
      }
    },
    {
      "cell_type": "code",
      "source": [
        "flights %>%\n",
        "\tfilter(!is.na(dep_time), year == 2013, month %in% c(1,2,3)) %>%\n",
        "\tselect(year, month, dest) %>%\n",
        "  group_by(year, month, dest) %>%\n",
        "  summarise(n_flights = n()) %>%\n",
        "  arrange(n_flights) %>%\n",
        "  head(5) %>%\n",
        "  inner_join(airports %>%\n",
        "                select(faa, name),\n",
        "              by = c(\"dest\" = \"faa\"))\n"
      ],
      "metadata": {
        "colab": {
          "base_uri": "https://localhost:8080/",
          "height": 290
        },
        "id": "M_392vQzGpz-",
        "outputId": "16f15944-e7a1-4be5-e1b6-40bf9b12286a"
      },
      "execution_count": 7,
      "outputs": [
        {
          "output_type": "stream",
          "name": "stderr",
          "text": [
            "\u001b[1m\u001b[22m`summarise()` has grouped output by 'year', 'month'. You can override using the\n",
            "`.groups` argument.\n"
          ]
        },
        {
          "output_type": "display_data",
          "data": {
            "text/html": [
              "<table class=\"dataframe\">\n",
              "<caption>A grouped_df: 5 × 5</caption>\n",
              "<thead>\n",
              "\t<tr><th scope=col>year</th><th scope=col>month</th><th scope=col>dest</th><th scope=col>n_flights</th><th scope=col>name</th></tr>\n",
              "\t<tr><th scope=col>&lt;int&gt;</th><th scope=col>&lt;int&gt;</th><th scope=col>&lt;chr&gt;</th><th scope=col>&lt;int&gt;</th><th scope=col>&lt;chr&gt;</th></tr>\n",
              "</thead>\n",
              "<tbody>\n",
              "\t<tr><td>2013</td><td>1</td><td>EYW</td><td>1</td><td>Key West Intl             </td></tr>\n",
              "\t<tr><td>2013</td><td>1</td><td>AVL</td><td>2</td><td>Asheville Regional Airport</td></tr>\n",
              "\t<tr><td>2013</td><td>1</td><td>JAC</td><td>2</td><td>Jackson Hole Airport      </td></tr>\n",
              "\t<tr><td>2013</td><td>2</td><td>JAC</td><td>2</td><td>Jackson Hole Airport      </td></tr>\n",
              "\t<tr><td>2013</td><td>3</td><td>BGR</td><td>2</td><td>Bangor Intl               </td></tr>\n",
              "</tbody>\n",
              "</table>\n"
            ],
            "text/markdown": "\nA grouped_df: 5 × 5\n\n| year &lt;int&gt; | month &lt;int&gt; | dest &lt;chr&gt; | n_flights &lt;int&gt; | name &lt;chr&gt; |\n|---|---|---|---|---|\n| 2013 | 1 | EYW | 1 | Key West Intl              |\n| 2013 | 1 | AVL | 2 | Asheville Regional Airport |\n| 2013 | 1 | JAC | 2 | Jackson Hole Airport       |\n| 2013 | 2 | JAC | 2 | Jackson Hole Airport       |\n| 2013 | 3 | BGR | 2 | Bangor Intl                |\n\n",
            "text/latex": "A grouped\\_df: 5 × 5\n\\begin{tabular}{lllll}\n year & month & dest & n\\_flights & name\\\\\n <int> & <int> & <chr> & <int> & <chr>\\\\\n\\hline\n\t 2013 & 1 & EYW & 1 & Key West Intl             \\\\\n\t 2013 & 1 & AVL & 2 & Asheville Regional Airport\\\\\n\t 2013 & 1 & JAC & 2 & Jackson Hole Airport      \\\\\n\t 2013 & 2 & JAC & 2 & Jackson Hole Airport      \\\\\n\t 2013 & 3 & BGR & 2 & Bangor Intl               \\\\\n\\end{tabular}\n",
            "text/plain": [
              "  year month dest n_flights name                      \n",
              "1 2013 1     EYW  1         Key West Intl             \n",
              "2 2013 1     AVL  2         Asheville Regional Airport\n",
              "3 2013 1     JAC  2         Jackson Hole Airport      \n",
              "4 2013 2     JAC  2         Jackson Hole Airport      \n",
              "5 2013 3     BGR  2         Bangor Intl               "
            ]
          },
          "metadata": {}
        }
      ]
    },
    {
      "cell_type": "markdown",
      "source": [
        "Q2 airlines with most departure delay (on Christmas 2013)"
      ],
      "metadata": {
        "id": "Ro1RJNBiHZmv"
      }
    },
    {
      "cell_type": "code",
      "source": [
        "flights %>%\n",
        "  filter(year == 2013, month == 12, day == 25) %>%\n",
        "  select(carrier, dep_delay) %>%\n",
        "  arrange(desc(dep_delay)) %>%\n",
        "  head(5) %>%\n",
        "  inner_join(airlines, by = \"carrier\")"
      ],
      "metadata": {
        "colab": {
          "base_uri": "https://localhost:8080/",
          "height": 255
        },
        "id": "yXMQwLSvHd0R",
        "outputId": "0f563e7a-6ee9-48b5-b802-9c1ca7b7bbc9"
      },
      "execution_count": 8,
      "outputs": [
        {
          "output_type": "display_data",
          "data": {
            "text/html": [
              "<table class=\"dataframe\">\n",
              "<caption>A tibble: 5 × 3</caption>\n",
              "<thead>\n",
              "\t<tr><th scope=col>carrier</th><th scope=col>dep_delay</th><th scope=col>name</th></tr>\n",
              "\t<tr><th scope=col>&lt;chr&gt;</th><th scope=col>&lt;dbl&gt;</th><th scope=col>&lt;chr&gt;</th></tr>\n",
              "</thead>\n",
              "<tbody>\n",
              "\t<tr><td>EV</td><td>321</td><td>ExpressJet Airlines Inc.</td></tr>\n",
              "\t<tr><td>EV</td><td>251</td><td>ExpressJet Airlines Inc.</td></tr>\n",
              "\t<tr><td>DL</td><td>234</td><td>Delta Air Lines Inc.    </td></tr>\n",
              "\t<tr><td>UA</td><td>198</td><td>United Air Lines Inc.   </td></tr>\n",
              "\t<tr><td>DL</td><td>193</td><td>Delta Air Lines Inc.    </td></tr>\n",
              "</tbody>\n",
              "</table>\n"
            ],
            "text/markdown": "\nA tibble: 5 × 3\n\n| carrier &lt;chr&gt; | dep_delay &lt;dbl&gt; | name &lt;chr&gt; |\n|---|---|---|\n| EV | 321 | ExpressJet Airlines Inc. |\n| EV | 251 | ExpressJet Airlines Inc. |\n| DL | 234 | Delta Air Lines Inc.     |\n| UA | 198 | United Air Lines Inc.    |\n| DL | 193 | Delta Air Lines Inc.     |\n\n",
            "text/latex": "A tibble: 5 × 3\n\\begin{tabular}{lll}\n carrier & dep\\_delay & name\\\\\n <chr> & <dbl> & <chr>\\\\\n\\hline\n\t EV & 321 & ExpressJet Airlines Inc.\\\\\n\t EV & 251 & ExpressJet Airlines Inc.\\\\\n\t DL & 234 & Delta Air Lines Inc.    \\\\\n\t UA & 198 & United Air Lines Inc.   \\\\\n\t DL & 193 & Delta Air Lines Inc.    \\\\\n\\end{tabular}\n",
            "text/plain": [
              "  carrier dep_delay name                    \n",
              "1 EV      321       ExpressJet Airlines Inc.\n",
              "2 EV      251       ExpressJet Airlines Inc.\n",
              "3 DL      234       Delta Air Lines Inc.    \n",
              "4 UA      198       United Air Lines Inc.   \n",
              "5 DL      193       Delta Air Lines Inc.    "
            ]
          },
          "metadata": {}
        }
      ]
    },
    {
      "cell_type": "markdown",
      "source": [
        "Q3 airline with least cancelled flights (compared to total flights)"
      ],
      "metadata": {
        "id": "kfjfpNTtHeJH"
      }
    },
    {
      "cell_type": "code",
      "source": [
        "na_deptime <- flights %>%\n",
        "  filter(is.na(dep_time)) %>%\n",
        "  group_by(carrier) %>%\n",
        "  summarise(cancelled_flights = n())\n",
        "\n",
        "flights %>%\n",
        "  inner_join(airlines, by = \"carrier\") %>%\n",
        "  group_by(carrier, name) %>%\n",
        "  select(carrier, name) %>%\n",
        "  summarise(scheduled_flights = n()) %>%\n",
        "  inner_join(na_deptime, by = \"carrier\") %>%\n",
        "  mutate(cancelled_flights_proportion =\n",
        "    round((cancelled_flights/scheduled_flights), 4)) %>%\n",
        "  arrange(cancelled_flights_proportion) %>%\n",
        "  head(5)"
      ],
      "metadata": {
        "colab": {
          "base_uri": "https://localhost:8080/",
          "height": 290
        },
        "id": "_vOdPfyoHg3R",
        "outputId": "e3c7d3d3-8c6d-4cf5-bb11-e4127669198b"
      },
      "execution_count": 9,
      "outputs": [
        {
          "output_type": "stream",
          "name": "stderr",
          "text": [
            "\u001b[1m\u001b[22m`summarise()` has grouped output by 'carrier'. You can override using the\n",
            "`.groups` argument.\n"
          ]
        },
        {
          "output_type": "display_data",
          "data": {
            "text/html": [
              "<table class=\"dataframe\">\n",
              "<caption>A grouped_df: 5 × 5</caption>\n",
              "<thead>\n",
              "\t<tr><th scope=col>carrier</th><th scope=col>name</th><th scope=col>scheduled_flights</th><th scope=col>cancelled_flights</th><th scope=col>cancelled_flights_proportion</th></tr>\n",
              "\t<tr><th scope=col>&lt;chr&gt;</th><th scope=col>&lt;chr&gt;</th><th scope=col>&lt;int&gt;</th><th scope=col>&lt;int&gt;</th><th scope=col>&lt;dbl&gt;</th></tr>\n",
              "</thead>\n",
              "<tbody>\n",
              "\t<tr><td>AS</td><td>Alaska Airlines Inc.  </td><td>  714</td><td>  2</td><td>0.0028</td></tr>\n",
              "\t<tr><td>F9</td><td>Frontier Airlines Inc.</td><td>  685</td><td>  3</td><td>0.0044</td></tr>\n",
              "\t<tr><td>VX</td><td>Virgin America        </td><td> 5162</td><td> 31</td><td>0.0060</td></tr>\n",
              "\t<tr><td>DL</td><td>Delta Air Lines Inc.  </td><td>48110</td><td>349</td><td>0.0073</td></tr>\n",
              "\t<tr><td>B6</td><td>JetBlue Airways       </td><td>54635</td><td>466</td><td>0.0085</td></tr>\n",
              "</tbody>\n",
              "</table>\n"
            ],
            "text/markdown": "\nA grouped_df: 5 × 5\n\n| carrier &lt;chr&gt; | name &lt;chr&gt; | scheduled_flights &lt;int&gt; | cancelled_flights &lt;int&gt; | cancelled_flights_proportion &lt;dbl&gt; |\n|---|---|---|---|---|\n| AS | Alaska Airlines Inc.   |   714 |   2 | 0.0028 |\n| F9 | Frontier Airlines Inc. |   685 |   3 | 0.0044 |\n| VX | Virgin America         |  5162 |  31 | 0.0060 |\n| DL | Delta Air Lines Inc.   | 48110 | 349 | 0.0073 |\n| B6 | JetBlue Airways        | 54635 | 466 | 0.0085 |\n\n",
            "text/latex": "A grouped\\_df: 5 × 5\n\\begin{tabular}{lllll}\n carrier & name & scheduled\\_flights & cancelled\\_flights & cancelled\\_flights\\_proportion\\\\\n <chr> & <chr> & <int> & <int> & <dbl>\\\\\n\\hline\n\t AS & Alaska Airlines Inc.   &   714 &   2 & 0.0028\\\\\n\t F9 & Frontier Airlines Inc. &   685 &   3 & 0.0044\\\\\n\t VX & Virgin America         &  5162 &  31 & 0.0060\\\\\n\t DL & Delta Air Lines Inc.   & 48110 & 349 & 0.0073\\\\\n\t B6 & JetBlue Airways        & 54635 & 466 & 0.0085\\\\\n\\end{tabular}\n",
            "text/plain": [
              "  carrier name                   scheduled_flights cancelled_flights\n",
              "1 AS      Alaska Airlines Inc.     714               2              \n",
              "2 F9      Frontier Airlines Inc.   685               3              \n",
              "3 VX      Virgin America          5162              31              \n",
              "4 DL      Delta Air Lines Inc.   48110             349              \n",
              "5 B6      JetBlue Airways        54635             466              \n",
              "  cancelled_flights_proportion\n",
              "1 0.0028                      \n",
              "2 0.0044                      \n",
              "3 0.0060                      \n",
              "4 0.0073                      \n",
              "5 0.0085                      "
            ]
          },
          "metadata": {}
        }
      ]
    },
    {
      "cell_type": "markdown",
      "source": [
        "Q4 most used airplane (based from tail number)"
      ],
      "metadata": {
        "id": "7h2wNN7rHg_H"
      }
    },
    {
      "cell_type": "code",
      "source": [
        "flights %>%\n",
        "  filter(!is.na(dep_time)) %>%\n",
        "  group_by(tailnum) %>%\n",
        "  select(carrier, tailnum) %>%\n",
        "  summarise(departed_flights = n()) %>%\n",
        "  arrange(desc(departed_flights)) %>%\n",
        "  head(5)"
      ],
      "metadata": {
        "colab": {
          "base_uri": "https://localhost:8080/",
          "height": 255
        },
        "id": "J4x1am1HHjYF",
        "outputId": "8dc3707d-ca43-4b70-a508-e5dbd5c2690a"
      },
      "execution_count": 10,
      "outputs": [
        {
          "output_type": "display_data",
          "data": {
            "text/html": [
              "<table class=\"dataframe\">\n",
              "<caption>A tibble: 5 × 2</caption>\n",
              "<thead>\n",
              "\t<tr><th scope=col>tailnum</th><th scope=col>departed_flights</th></tr>\n",
              "\t<tr><th scope=col>&lt;chr&gt;</th><th scope=col>&lt;int&gt;</th></tr>\n",
              "</thead>\n",
              "<tbody>\n",
              "\t<tr><td>N725MQ</td><td>546</td></tr>\n",
              "\t<tr><td>N722MQ</td><td>487</td></tr>\n",
              "\t<tr><td>N723MQ</td><td>480</td></tr>\n",
              "\t<tr><td>N711MQ</td><td>467</td></tr>\n",
              "\t<tr><td>N713MQ</td><td>455</td></tr>\n",
              "</tbody>\n",
              "</table>\n"
            ],
            "text/markdown": "\nA tibble: 5 × 2\n\n| tailnum &lt;chr&gt; | departed_flights &lt;int&gt; |\n|---|---|\n| N725MQ | 546 |\n| N722MQ | 487 |\n| N723MQ | 480 |\n| N711MQ | 467 |\n| N713MQ | 455 |\n\n",
            "text/latex": "A tibble: 5 × 2\n\\begin{tabular}{ll}\n tailnum & departed\\_flights\\\\\n <chr> & <int>\\\\\n\\hline\n\t N725MQ & 546\\\\\n\t N722MQ & 487\\\\\n\t N723MQ & 480\\\\\n\t N711MQ & 467\\\\\n\t N713MQ & 455\\\\\n\\end{tabular}\n",
            "text/plain": [
              "  tailnum departed_flights\n",
              "1 N725MQ  546             \n",
              "2 N722MQ  487             \n",
              "3 N723MQ  480             \n",
              "4 N711MQ  467             \n",
              "5 N713MQ  455             "
            ]
          },
          "metadata": {}
        }
      ]
    },
    {
      "cell_type": "markdown",
      "source": [
        "Q5 most popular airplane manufacturer among airlines"
      ],
      "metadata": {
        "id": "Kkv_1CkRHjmi"
      }
    },
    {
      "cell_type": "code",
      "source": [
        "planes %>%\n",
        "  select(tailnum, manufacturer) %>%\n",
        "  group_by(manufacturer) %>%\n",
        "  summarise(no_of_airplanes = n()) %>%\n",
        "  arrange(desc(no_of_airplanes)) %>%\n",
        "  head(5)"
      ],
      "metadata": {
        "colab": {
          "base_uri": "https://localhost:8080/",
          "height": 255
        },
        "id": "gdHm0dcbPDWu",
        "outputId": "fb151c8e-8ddd-4e43-cf31-993ad13d9f48"
      },
      "execution_count": 11,
      "outputs": [
        {
          "output_type": "display_data",
          "data": {
            "text/html": [
              "<table class=\"dataframe\">\n",
              "<caption>A tibble: 5 × 2</caption>\n",
              "<thead>\n",
              "\t<tr><th scope=col>manufacturer</th><th scope=col>no_of_airplanes</th></tr>\n",
              "\t<tr><th scope=col>&lt;chr&gt;</th><th scope=col>&lt;int&gt;</th></tr>\n",
              "</thead>\n",
              "<tbody>\n",
              "\t<tr><td>BOEING          </td><td>1630</td></tr>\n",
              "\t<tr><td>AIRBUS INDUSTRIE</td><td> 400</td></tr>\n",
              "\t<tr><td>BOMBARDIER INC  </td><td> 368</td></tr>\n",
              "\t<tr><td>AIRBUS          </td><td> 336</td></tr>\n",
              "\t<tr><td>EMBRAER         </td><td> 299</td></tr>\n",
              "</tbody>\n",
              "</table>\n"
            ],
            "text/markdown": "\nA tibble: 5 × 2\n\n| manufacturer &lt;chr&gt; | no_of_airplanes &lt;int&gt; |\n|---|---|\n| BOEING           | 1630 |\n| AIRBUS INDUSTRIE |  400 |\n| BOMBARDIER INC   |  368 |\n| AIRBUS           |  336 |\n| EMBRAER          |  299 |\n\n",
            "text/latex": "A tibble: 5 × 2\n\\begin{tabular}{ll}\n manufacturer & no\\_of\\_airplanes\\\\\n <chr> & <int>\\\\\n\\hline\n\t BOEING           & 1630\\\\\n\t AIRBUS INDUSTRIE &  400\\\\\n\t BOMBARDIER INC   &  368\\\\\n\t AIRBUS           &  336\\\\\n\t EMBRAER          &  299\\\\\n\\end{tabular}\n",
            "text/plain": [
              "  manufacturer     no_of_airplanes\n",
              "1 BOEING           1630           \n",
              "2 AIRBUS INDUSTRIE  400           \n",
              "3 BOMBARDIER INC    368           \n",
              "4 AIRBUS            336           \n",
              "5 EMBRAER           299           "
            ]
          },
          "metadata": {}
        }
      ]
    }
  ]
}
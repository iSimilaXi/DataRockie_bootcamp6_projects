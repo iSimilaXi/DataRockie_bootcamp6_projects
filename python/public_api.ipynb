{
  "nbformat": 4,
  "nbformat_minor": 0,
  "metadata": {
    "colab": {
      "provenance": []
    },
    "kernelspec": {
      "name": "python3",
      "display_name": "Python 3"
    },
    "language_info": {
      "name": "python"
    }
  },
  "cells": [
    {
      "cell_type": "markdown",
      "source": [
        "Import libraries"
      ],
      "metadata": {
        "id": "QPD_fNM22zww"
      }
    },
    {
      "cell_type": "code",
      "execution_count": 2,
      "metadata": {
        "id": "kRsdaXgi2unt"
      },
      "outputs": [],
      "source": [
        "import requests\n",
        "import time\n",
        "import pandas as pd"
      ]
    },
    {
      "cell_type": "markdown",
      "source": [
        "test connection"
      ],
      "metadata": {
        "id": "bLXVcrGR2_Ah"
      }
    },
    {
      "cell_type": "code",
      "source": [
        "test_url = \"https://api.magicthegathering.io/v1/cards\"\n",
        "\n",
        "test_response = requests.get(test_url)\n",
        "\n",
        "print(f\"status code: {test_response.status_code}\")\n",
        "\n",
        "test_result = test_response.json()"
      ],
      "metadata": {
        "colab": {
          "base_uri": "https://localhost:8080/"
        },
        "id": "4EWWsmle2-ab",
        "outputId": "cf58c646-9c67-4f0d-e675-c07387115b5c"
      },
      "execution_count": null,
      "outputs": [
        {
          "output_type": "stream",
          "name": "stdout",
          "text": [
            "status code: 200\n"
          ]
        }
      ]
    },
    {
      "cell_type": "markdown",
      "source": [
        "prepare empty list"
      ],
      "metadata": {
        "id": "qhKYqlNm4CqD"
      }
    },
    {
      "cell_type": "code",
      "source": [
        "multiverseids = []\n",
        "names = []\n",
        "types = []\n",
        "rarities = []\n",
        "setNames = []\n",
        "manaCosts = []"
      ],
      "metadata": {
        "id": "J_uI2Sd_4EJy"
      },
      "execution_count": 3,
      "outputs": []
    },
    {
      "cell_type": "markdown",
      "source": [
        "request data & create data frame"
      ],
      "metadata": {
        "id": "fZ-zm1m3x_Bu"
      }
    },
    {
      "cell_type": "code",
      "source": [
        "import requests\n",
        "import time\n",
        "import pandas as pd\n",
        "\n",
        "multiverseids = []\n",
        "names = []\n",
        "types = []\n",
        "rarities = []\n",
        "setNames = []\n",
        "\n",
        "for id in range(1, 10):\n",
        "    url = f\"https://api.magicthegathering.io/v1/cards/{id}\"\n",
        "    response = requests.get(url)\n",
        "    results = response.json()\n",
        "    card = results['card']  # Access the correct key 'card' in the response\n",
        "    multiverseids.append(card['multiverseid'])\n",
        "    names.append(card['name'])\n",
        "    types.append(card['type'])\n",
        "    rarities.append(card['rarity'])\n",
        "    setNames.append(card['setName'])\n",
        "\n",
        "    time.sleep(1)\n",
        "\n",
        "dota_hero_list = pd.DataFrame({\n",
        "    'multiverseid': multiverseids,\n",
        "    'name': names,\n",
        "    'type': types,\n",
        "    'rarity': rarities,\n",
        "    'setName': setNames,\n",
        "})\n"
      ],
      "metadata": {
        "id": "HHMdNlXREVdH"
      },
      "execution_count": 7,
      "outputs": []
    },
    {
      "cell_type": "code",
      "source": [
        "dota_hero_list"
      ],
      "metadata": {
        "colab": {
          "base_uri": "https://localhost:8080/",
          "height": 332
        },
        "id": "gpBDQtVcs4d6",
        "outputId": "64af36a1-d630-4061-9488-da96c4cfbffb"
      },
      "execution_count": 8,
      "outputs": [
        {
          "output_type": "execute_result",
          "data": {
            "text/plain": [
              "  multiverseid             name                       type    rarity  \\\n",
              "0            1   Ankh of Mishra                   Artifact      Rare   \n",
              "1            2  Basalt Monolith                   Artifact  Uncommon   \n",
              "2            3      Black Lotus                   Artifact      Rare   \n",
              "3            4       Black Vise                   Artifact  Uncommon   \n",
              "4            5  Celestial Prism                   Artifact  Uncommon   \n",
              "5            6        Chaos Orb                   Artifact      Rare   \n",
              "6            7  Clockwork Beast  Artifact Creature — Beast      Rare   \n",
              "7            8      Conservator                   Artifact  Uncommon   \n",
              "8            9    Copper Tablet                   Artifact  Uncommon   \n",
              "\n",
              "                 setName  \n",
              "0  Limited Edition Alpha  \n",
              "1  Limited Edition Alpha  \n",
              "2  Limited Edition Alpha  \n",
              "3  Limited Edition Alpha  \n",
              "4  Limited Edition Alpha  \n",
              "5  Limited Edition Alpha  \n",
              "6  Limited Edition Alpha  \n",
              "7  Limited Edition Alpha  \n",
              "8  Limited Edition Alpha  "
            ],
            "text/html": [
              "\n",
              "  <div id=\"df-400d7e5f-e5bb-43c5-9249-69fabe61e669\">\n",
              "    <div class=\"colab-df-container\">\n",
              "      <div>\n",
              "<style scoped>\n",
              "    .dataframe tbody tr th:only-of-type {\n",
              "        vertical-align: middle;\n",
              "    }\n",
              "\n",
              "    .dataframe tbody tr th {\n",
              "        vertical-align: top;\n",
              "    }\n",
              "\n",
              "    .dataframe thead th {\n",
              "        text-align: right;\n",
              "    }\n",
              "</style>\n",
              "<table border=\"1\" class=\"dataframe\">\n",
              "  <thead>\n",
              "    <tr style=\"text-align: right;\">\n",
              "      <th></th>\n",
              "      <th>multiverseid</th>\n",
              "      <th>name</th>\n",
              "      <th>type</th>\n",
              "      <th>rarity</th>\n",
              "      <th>setName</th>\n",
              "    </tr>\n",
              "  </thead>\n",
              "  <tbody>\n",
              "    <tr>\n",
              "      <th>0</th>\n",
              "      <td>1</td>\n",
              "      <td>Ankh of Mishra</td>\n",
              "      <td>Artifact</td>\n",
              "      <td>Rare</td>\n",
              "      <td>Limited Edition Alpha</td>\n",
              "    </tr>\n",
              "    <tr>\n",
              "      <th>1</th>\n",
              "      <td>2</td>\n",
              "      <td>Basalt Monolith</td>\n",
              "      <td>Artifact</td>\n",
              "      <td>Uncommon</td>\n",
              "      <td>Limited Edition Alpha</td>\n",
              "    </tr>\n",
              "    <tr>\n",
              "      <th>2</th>\n",
              "      <td>3</td>\n",
              "      <td>Black Lotus</td>\n",
              "      <td>Artifact</td>\n",
              "      <td>Rare</td>\n",
              "      <td>Limited Edition Alpha</td>\n",
              "    </tr>\n",
              "    <tr>\n",
              "      <th>3</th>\n",
              "      <td>4</td>\n",
              "      <td>Black Vise</td>\n",
              "      <td>Artifact</td>\n",
              "      <td>Uncommon</td>\n",
              "      <td>Limited Edition Alpha</td>\n",
              "    </tr>\n",
              "    <tr>\n",
              "      <th>4</th>\n",
              "      <td>5</td>\n",
              "      <td>Celestial Prism</td>\n",
              "      <td>Artifact</td>\n",
              "      <td>Uncommon</td>\n",
              "      <td>Limited Edition Alpha</td>\n",
              "    </tr>\n",
              "    <tr>\n",
              "      <th>5</th>\n",
              "      <td>6</td>\n",
              "      <td>Chaos Orb</td>\n",
              "      <td>Artifact</td>\n",
              "      <td>Rare</td>\n",
              "      <td>Limited Edition Alpha</td>\n",
              "    </tr>\n",
              "    <tr>\n",
              "      <th>6</th>\n",
              "      <td>7</td>\n",
              "      <td>Clockwork Beast</td>\n",
              "      <td>Artifact Creature — Beast</td>\n",
              "      <td>Rare</td>\n",
              "      <td>Limited Edition Alpha</td>\n",
              "    </tr>\n",
              "    <tr>\n",
              "      <th>7</th>\n",
              "      <td>8</td>\n",
              "      <td>Conservator</td>\n",
              "      <td>Artifact</td>\n",
              "      <td>Uncommon</td>\n",
              "      <td>Limited Edition Alpha</td>\n",
              "    </tr>\n",
              "    <tr>\n",
              "      <th>8</th>\n",
              "      <td>9</td>\n",
              "      <td>Copper Tablet</td>\n",
              "      <td>Artifact</td>\n",
              "      <td>Uncommon</td>\n",
              "      <td>Limited Edition Alpha</td>\n",
              "    </tr>\n",
              "  </tbody>\n",
              "</table>\n",
              "</div>\n",
              "      <button class=\"colab-df-convert\" onclick=\"convertToInteractive('df-400d7e5f-e5bb-43c5-9249-69fabe61e669')\"\n",
              "              title=\"Convert this dataframe to an interactive table.\"\n",
              "              style=\"display:none;\">\n",
              "        \n",
              "  <svg xmlns=\"http://www.w3.org/2000/svg\" height=\"24px\"viewBox=\"0 0 24 24\"\n",
              "       width=\"24px\">\n",
              "    <path d=\"M0 0h24v24H0V0z\" fill=\"none\"/>\n",
              "    <path d=\"M18.56 5.44l.94 2.06.94-2.06 2.06-.94-2.06-.94-.94-2.06-.94 2.06-2.06.94zm-11 1L8.5 8.5l.94-2.06 2.06-.94-2.06-.94L8.5 2.5l-.94 2.06-2.06.94zm10 10l.94 2.06.94-2.06 2.06-.94-2.06-.94-.94-2.06-.94 2.06-2.06.94z\"/><path d=\"M17.41 7.96l-1.37-1.37c-.4-.4-.92-.59-1.43-.59-.52 0-1.04.2-1.43.59L10.3 9.45l-7.72 7.72c-.78.78-.78 2.05 0 2.83L4 21.41c.39.39.9.59 1.41.59.51 0 1.02-.2 1.41-.59l7.78-7.78 2.81-2.81c.8-.78.8-2.07 0-2.86zM5.41 20L4 18.59l7.72-7.72 1.47 1.35L5.41 20z\"/>\n",
              "  </svg>\n",
              "      </button>\n",
              "      \n",
              "  <style>\n",
              "    .colab-df-container {\n",
              "      display:flex;\n",
              "      flex-wrap:wrap;\n",
              "      gap: 12px;\n",
              "    }\n",
              "\n",
              "    .colab-df-convert {\n",
              "      background-color: #E8F0FE;\n",
              "      border: none;\n",
              "      border-radius: 50%;\n",
              "      cursor: pointer;\n",
              "      display: none;\n",
              "      fill: #1967D2;\n",
              "      height: 32px;\n",
              "      padding: 0 0 0 0;\n",
              "      width: 32px;\n",
              "    }\n",
              "\n",
              "    .colab-df-convert:hover {\n",
              "      background-color: #E2EBFA;\n",
              "      box-shadow: 0px 1px 2px rgba(60, 64, 67, 0.3), 0px 1px 3px 1px rgba(60, 64, 67, 0.15);\n",
              "      fill: #174EA6;\n",
              "    }\n",
              "\n",
              "    [theme=dark] .colab-df-convert {\n",
              "      background-color: #3B4455;\n",
              "      fill: #D2E3FC;\n",
              "    }\n",
              "\n",
              "    [theme=dark] .colab-df-convert:hover {\n",
              "      background-color: #434B5C;\n",
              "      box-shadow: 0px 1px 3px 1px rgba(0, 0, 0, 0.15);\n",
              "      filter: drop-shadow(0px 1px 2px rgba(0, 0, 0, 0.3));\n",
              "      fill: #FFFFFF;\n",
              "    }\n",
              "  </style>\n",
              "\n",
              "      <script>\n",
              "        const buttonEl =\n",
              "          document.querySelector('#df-400d7e5f-e5bb-43c5-9249-69fabe61e669 button.colab-df-convert');\n",
              "        buttonEl.style.display =\n",
              "          google.colab.kernel.accessAllowed ? 'block' : 'none';\n",
              "\n",
              "        async function convertToInteractive(key) {\n",
              "          const element = document.querySelector('#df-400d7e5f-e5bb-43c5-9249-69fabe61e669');\n",
              "          const dataTable =\n",
              "            await google.colab.kernel.invokeFunction('convertToInteractive',\n",
              "                                                     [key], {});\n",
              "          if (!dataTable) return;\n",
              "\n",
              "          const docLinkHtml = 'Like what you see? Visit the ' +\n",
              "            '<a target=\"_blank\" href=https://colab.research.google.com/notebooks/data_table.ipynb>data table notebook</a>'\n",
              "            + ' to learn more about interactive tables.';\n",
              "          element.innerHTML = '';\n",
              "          dataTable['output_type'] = 'display_data';\n",
              "          await google.colab.output.renderOutput(dataTable, element);\n",
              "          const docLink = document.createElement('div');\n",
              "          docLink.innerHTML = docLinkHtml;\n",
              "          element.appendChild(docLink);\n",
              "        }\n",
              "      </script>\n",
              "    </div>\n",
              "  </div>\n",
              "  "
            ]
          },
          "metadata": {},
          "execution_count": 8
        }
      ]
    }
  ]
}